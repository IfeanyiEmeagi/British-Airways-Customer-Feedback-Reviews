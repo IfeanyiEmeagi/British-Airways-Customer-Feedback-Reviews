{
 "cells": [
  {
   "cell_type": "code",
   "execution_count": 143,
   "metadata": {},
   "outputs": [],
   "source": [
    "# Import the required libraries\n",
    "\n",
    "import pandas as pd\n",
    "import chardet\n",
    "from sklearn.model_selection import train_test_split, GridSearchCV\n",
    "from imblearn.over_sampling import SMOTENC\n",
    "from collections import Counter\n",
    "import xgboost as xgb\n",
    "import matplotlib.pyplot as plt\n",
    "from sklearn.metrics import precision_score, recall_score, f1_score, ConfusionMatrixDisplay\n",
    "from matplotlib.colors import LinearSegmentedColormap\n"
   ]
  },
  {
   "cell_type": "code",
   "execution_count": 124,
   "metadata": {},
   "outputs": [
    {
     "data": {
      "text/plain": [
       "'ISO-8859-1'"
      ]
     },
     "execution_count": 124,
     "metadata": {},
     "output_type": "execute_result"
    }
   ],
   "source": [
    "def detect_encoding(file_path):\n",
    "    \"\"\"Detect the most probable character encoding for a file\"\"\"\n",
    "    with open(file_path, 'rb') as f:\n",
    "        raw_data = f.read()\n",
    "        result = chardet.detect(raw_data)\n",
    "        return result['encoding']\n",
    "    \n",
    "detect_encoding('customer_booking.csv')"
   ]
  },
  {
   "cell_type": "code",
   "execution_count": 125,
   "metadata": {},
   "outputs": [
    {
     "name": "stdout",
     "output_type": "stream",
     "text": [
      "The data loaded: It contains 50000 rows and 14 columns\n",
      "The column names are: Index(['num_passengers', 'sales_channel', 'trip_type', 'purchase_lead',\n",
      "       'length_of_stay', 'flight_hour', 'flight_day', 'route',\n",
      "       'booking_origin', 'wants_extra_baggage', 'wants_preferred_seat',\n",
      "       'wants_in_flight_meals', 'flight_duration', 'booking_complete'],\n",
      "      dtype='object')\n"
     ]
    }
   ],
   "source": [
    "def load_csv_file(csv_path):\n",
    "    \"\"\"Load the CSV file from the disk and prints the shape.\"\"\"\n",
    "\n",
    "    data = pd.read_csv(csv_path, encoding='ISO-8859-1')\n",
    "\n",
    "    data_shape = data.shape\n",
    "    print(f\"The data loaded: It contains {data_shape[0]} rows and {data_shape[1]} columns\")\n",
    "    print(f\"The column names are: {data.columns}\")\n",
    "\n",
    "    return data\n",
    "\n",
    "\n",
    "df = load_csv_file(\"customer_booking.csv\")"
   ]
  },
  {
   "cell_type": "code",
   "execution_count": 126,
   "metadata": {},
   "outputs": [],
   "source": [
    "def data_cleaning(data):\n",
    "    \"\"\"Clean the data by, convert object to category, map week days.\"\"\"\n",
    "\n",
    "    # Map the week day\n",
    "    week_day_map = {\n",
    "        \"Mon\": 1,\n",
    "        \"Tue\": 2,\n",
    "        \"Wed\": 3,\n",
    "        \"Thu\": 4,\n",
    "        \"Fri\": 5,\n",
    "        \"Sat\": 6,\n",
    "        \"Sun\": 7\n",
    "    }\n",
    "    data[\"flight_day\"] = data['flight_day'].map(week_day_map)\n",
    "\n",
    "    # Convert all the object columns to category\n",
    "    object_columns = data.select_dtypes(include='object').columns.to_list()\n",
    "    data[object_columns] = data[object_columns].astype('category')\n",
    "\n",
    "    return data \n",
    "data = data_cleaning(df)"
   ]
  },
  {
   "cell_type": "code",
   "execution_count": 127,
   "metadata": {},
   "outputs": [],
   "source": [
    "def split_data(data):\n",
    "    \"\"\"Split the data into train and test\"\"\"\n",
    "    train_set, test_set = train_test_split(df, test_size=0.2, stratify=df['booking_complete'])\n",
    "\n",
    "    return train_set, test_set \n",
    "\n",
    "train_set, test_set = split_data(data)"
   ]
  },
  {
   "cell_type": "code",
   "execution_count": null,
   "metadata": {},
   "outputs": [],
   "source": [
    "df.booking_complete.value_counts(normalize=True) # 85 percent of the data consists of one class (0 class). This means that there is 85 percent chance of randomly selecting the 0-class from the dataset. To fix this issue, the training dataset is balanced using Synthetic Minority Over-Sampling Technique (SMOTE)."
   ]
  },
  {
   "cell_type": "code",
   "execution_count": 128,
   "metadata": {},
   "outputs": [
    {
     "name": "stdout",
     "output_type": "stream",
     "text": [
      "The class counts of y_train before resampling: Counter({0: 34018, 1: 5982})\n",
      "The class counts of y_train_resample: Counter({0: 34018, 1: 34018})\n"
     ]
    }
   ],
   "source": [
    "def over_sample_imbalance_class(train_set):\n",
    "    \"\"\"Over-sample the imbalance class using Synthetic Minority Over-sampling Techinque for Nominal and Continuous (SMOTENC)\"\"\"\n",
    "\n",
    "    sm = SMOTENC(categorical_features='auto', random_state=42)\n",
    "\n",
    "    x_train = train_set.drop(columns=['booking_complete'], axis=1)\n",
    "    y_train = train_set['booking_complete']\n",
    "    print(f\"The class counts of y_train before resampling: {Counter(y_train)}\")\n",
    "\n",
    "    x_train_resampled, y_train_resampled = sm.fit_resample(x_train, y_train)\n",
    "    print(f\"The class counts of y_train_resample: { Counter(y_train_resampled)}\")\n",
    "\n",
    "    return x_train_resampled, y_train_resampled\n",
    "    \n",
    "x_train_resampled, y_train_resampled = over_sample_imbalance_class(train_set)"
   ]
  },
  {
   "cell_type": "code",
   "execution_count": 129,
   "metadata": {},
   "outputs": [],
   "source": [
    "# HistGradientBoostingClassifier natively supports categorical columns. The category columns will be inferred from the data type.\n",
    "# The first used did not categorical columns with more than 255 unique categories. I used XGBoost because of its support to categorical data and\n",
    "# efficiency on tabular dataset.\n",
    "\n",
    "def xgb_model():\n",
    "    \"\"\"Instantiate the model\"\"\"\n",
    "    model = xgb.XGBClassifier(\n",
    "        tree_method=\"hist\",\n",
    "        enable_categorical=True,\n",
    "        eval_metric='logloss',\n",
    "        random_state=42,\n",
    "    )\n",
    "    \n",
    "    return model\n",
    "\n",
    "xgboost_model = xgb_model()"
   ]
  },
  {
   "cell_type": "code",
   "execution_count": 130,
   "metadata": {},
   "outputs": [
    {
     "name": "stdout",
     "output_type": "stream",
     "text": [
      "Fitting 5 folds for each of 125 candidates, totalling 625 fits\n"
     ]
    },
    {
     "name": "stderr",
     "output_type": "stream",
     "text": [
      "/Users/user/Code/Forage/British-Airways-Reviews/.venv/lib/python3.12/site-packages/joblib/externals/loky/process_executor.py:752: UserWarning: A worker stopped while some jobs were given to the executor. This can be caused by a too short worker timeout or by a memory leak.\n",
      "  warnings.warn(\n"
     ]
    },
    {
     "name": "stdout",
     "output_type": "stream",
     "text": [
      "Best parameters: {'learning_rate': 0.2, 'max_depth': 7, 'n_estimators': 500}\n",
      "\n",
      "Best ROC AUC:  0.95\n"
     ]
    }
   ],
   "source": [
    "def train_model(model, x_train, y_train, cv=5):\n",
    "    \"\"\"Train the model\"\"\"\n",
    "    params = {\n",
    "        'n_estimators': [100, 200, 300, 400, 500],\n",
    "        'learning_rate': [0.01, 0.1, 0.2, 0.3, 0.5],\n",
    "        'max_depth': [3, 4, 5, 6, 7]\n",
    "    }\n",
    "    grid = GridSearchCV(estimator=model,\n",
    "                        param_grid=params,\n",
    "                        cv=cv,\n",
    "                        scoring='roc_auc',\n",
    "                        n_jobs=-1,\n",
    "                        verbose=1\n",
    "                        )\n",
    "    grid.fit(x_train, y_train)\n",
    "\n",
    "    print(f\"Best parameters: {grid.best_params_}\\n\")\n",
    "    print(f\"Best ROC AUC: {grid.best_score_: .2f}\")\n",
    "\n",
    "    return grid\n",
    "\n",
    "grid = train_model(xgboost_model, x_train_resampled, y_train_resampled)"
   ]
  },
  {
   "cell_type": "code",
   "execution_count": 131,
   "metadata": {},
   "outputs": [],
   "source": [
    "best_model = grid.best_estimator_"
   ]
  },
  {
   "cell_type": "code",
   "execution_count": 133,
   "metadata": {},
   "outputs": [
    {
     "name": "stdout",
     "output_type": "stream",
     "text": [
      "Train accuracy:  0.99\n"
     ]
    }
   ],
   "source": [
    "# Evaluate the model on the train_set\n",
    "train_accuracy = best_model.score(x_train_resampled, y_train_resampled)\n",
    "print(f\"Train accuracy: {train_accuracy: .2f}\")"
   ]
  },
  {
   "cell_type": "code",
   "execution_count": 134,
   "metadata": {},
   "outputs": [
    {
     "name": "stdout",
     "output_type": "stream",
     "text": [
      "Test set accuracy:  0.82\n"
     ]
    }
   ],
   "source": [
    "# Evaluate the model\n",
    "x_test = test_set.drop('booking_complete', axis=1)\n",
    "y_test = test_set['booking_complete']\n",
    "test_accuracy = best_model.score(x_test, y_test)\n",
    "print(f\"Test set accuracy: { test_accuracy: .2f}\")"
   ]
  },
  {
   "cell_type": "code",
   "execution_count": 136,
   "metadata": {},
   "outputs": [
    {
     "name": "stdout",
     "output_type": "stream",
     "text": [
      "Precision: 0.37; Recall: 0.31; F1_Score: 0.34\n"
     ]
    }
   ],
   "source": [
    "# Evaluate the precision, recall and f1_score\n",
    "predictions = best_model.predict(x_test)\n",
    "precision = precision_score(y_test, predictions)\n",
    "recall = recall_score(y_test, predictions)\n",
    "f1 = f1_score(y_test, predictions)\n",
    "print(f\"Precision: {precision:.2f}; Recall: { recall:.2f}; F1_Score: { f1:.2f}\")"
   ]
  },
  {
   "cell_type": "code",
   "execution_count": 149,
   "metadata": {},
   "outputs": [
    {
     "data": {
      "image/png": "[encoded data removed]",
      "text/plain": [
       "<Figure size 600x600 with 1 Axes>"
      ]
     },
     "metadata": {},
     "output_type": "display_data"
    }
   ],
   "source": [
    "# Plot the confusion matrix\n",
    "\n",
    "def setup_confusion_matrix_style(ax):\n",
    "    \"\"\"Apply consistent plot styling for a confusion matrix\"\"\"\n",
    "    \n",
    "    # Hide the top and right spines\n",
    "    ax.spines['top'].set_visible(False)\n",
    "    ax.spines['right'].set_visible(False)\n",
    "    # Set the title and pad, font size and weight\n",
    "    ax.set_title(\"Prediction Breakdown\", pad=15, fontsize=16, fontweight='bold')\n",
    "    # Set axis labels suitable for a confusion matrix\n",
    "    ax.set_xlabel(\"Predicted Label\", fontsize=12)\n",
    "    ax.set_ylabel(\"Actual Label\", fontsize=12)\n",
    "\n",
    "custom_cmap = LinearSegmentedColormap.from_list(\"custom_cmap\", [\"#ADD8E6\", \"#00008B\"])\n",
    "\n",
    "fig, ax = plt.subplots(figsize=(6, 6))\n",
    "ConfusionMatrixDisplay.from_estimator(best_model, x_test, y_test, ax=ax,  cmap=custom_cmap, colorbar=False)\n",
    "setup_confusion_matrix_style(ax)\n",
    "\n",
    "plt.tight_layout()\n",
    "plt.show();"
   ]
  },
  {
   "cell_type": "code",
   "execution_count": 150,
   "metadata": {},
   "outputs": [
    {
     "data": {
      "image/png": "[encoded data removed]",
      "text/plain": [
       "<Figure size 1200x600 with 1 Axes>"
      ]
     },
     "metadata": {},
     "output_type": "display_data"
    }
   ],
   "source": [
    "def setup_plot_style(ax):\n",
    "    \"\"\"Apply plot styling\"\"\"\n",
    "    ax.set_ylabel('Feature')\n",
    "    ax.set_xlabel('Relative importance')\n",
    "    ax.grid(True, axis='x', linestyle='--', alpha=0.7)\n",
    "    ax.spines['top'].set_visible(False)\n",
    "    ax.spines['right'].set_visible(False)\n",
    "    ax.set_title('Model Important Features', pad=15, fontsize=16, fontweight='bold')\n",
    "\n",
    "# Get feature importances\n",
    "fig, ax = plt.subplots(figsize=(12, 6))\n",
    "important_features = pd.Series(best_model.feature_importances_, index=x_train_resampled.columns.to_list()).sort_values(ascending=True)\n",
    "bars = ax.barh(important_features.index, important_features, alpha=0.3, height=0.8)\n",
    "setup_plot_style(ax)\n",
    "plt.tight_layout()\n",
    "plt.show();"
   ]
  },
  {
   "cell_type": "code",
   "execution_count": 117,
   "metadata": {},
   "outputs": [
    {
     "name": "stdout",
     "output_type": "stream",
     "text": [
      "Train accuracy:  0.99\n"
     ]
    }
   ],
   "source": [
    "\n"
   ]
  },
  {
   "cell_type": "code",
   "execution_count": 101,
   "metadata": {},
   "outputs": [
    {
     "name": "stdout",
     "output_type": "stream",
     "text": [
      "Test set accuracy:  0.82\n"
     ]
    }
   ],
   "source": []
  },
  {
   "cell_type": "code",
   "execution_count": 47,
   "metadata": {},
   "outputs": [
    {
     "data": {
      "text/plain": [
       "booking_complete\n",
       "0    0.85044\n",
       "1    0.14956\n",
       "Name: proportion, dtype: float64"
      ]
     },
     "execution_count": 47,
     "metadata": {},
     "output_type": "execute_result"
    }
   ],
   "source": []
  },
  {
   "cell_type": "code",
   "execution_count": null,
   "metadata": {},
   "outputs": [],
   "source": []
  }
 ],
 "metadata": {
  "kernelspec": {
   "display_name": ".venv",
   "language": "python",
   "name": "python3"
  },
  "language_info": {
   "codemirror_mode": {
    "name": "ipython",
    "version": 3
   },
   "file_extension": ".py",
   "mimetype": "text/x-python",
   "name": "python",
   "nbconvert_exporter": "python",
   "pygments_lexer": "ipython3",
   "version": "3.12.2"
  }
 },
 "nbformat": 4,
 "nbformat_minor": 2
}
